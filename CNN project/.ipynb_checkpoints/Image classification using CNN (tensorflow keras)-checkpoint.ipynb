{
 "cells": [
  {
   "cell_type": "markdown",
   "id": "59b4633b",
   "metadata": {},
   "source": [
    "<h3>1- importing all the libraries we gonna use </h3>\n",
    "<b> 1.1- numpy we use it to implement arrays and metrices so we can define the pixels of the images<br>\n",
    "    1.2- os we use it to make the acces to the files and the paths easier<br>\n",
    "    1.3- tensorflow(keras) we use it to implement our neural network and the types of layers we gonna    use</b>\n",
    "    \n",
    "    "
   ]
  },
  {
   "cell_type": "code",
   "execution_count": 20,
   "id": "fa9e57c0",
   "metadata": {},
   "outputs": [],
   "source": [
    "import numpy as np\n",
    "import os\n",
    "import xml.etree.ElementTree as ET\n",
    "import tensorflow as tf\n",
    "from tensorflow.keras.models import Sequential\n",
    "from tensorflow.keras.layers import Conv2D, MaxPooling2D, Dropout, Flatten, Dense"
   ]
  },
  {
   "cell_type": "markdown",
   "id": "546f8817",
   "metadata": {},
   "source": [
    "<h3> 2- we gonna gather our data of raod images that we gonna get it form google and save it in the file data</h3>"
   ]
  },
  {
   "cell_type": "code",
   "execution_count": 21,
   "id": "0802e26d",
   "metadata": {},
   "outputs": [
    {
     "data": {
      "text/plain": [
       "'data\\\\roads'"
      ]
     },
     "execution_count": 21,
     "metadata": {},
     "output_type": "execute_result"
    }
   ],
   "source": [
    "os.path.join('data','roads')"
   ]
  },
  {
   "cell_type": "code",
   "execution_count": 22,
   "id": "7e98cbc3",
   "metadata": {},
   "outputs": [
    {
     "data": {
      "text/plain": [
       "['roads']"
      ]
     },
     "execution_count": 22,
     "metadata": {},
     "output_type": "execute_result"
    }
   ],
   "source": [
    "os.listdir('data')"
   ]
  },
  {
   "cell_type": "markdown",
   "id": "6d046bf7",
   "metadata": {},
   "source": [
    "<h3>3- then we are going to label our data using labelimg tool https://github.com/heartexlabs/labelImg</h3>"
   ]
  },
  {
   "cell_type": "code",
   "execution_count": 23,
   "id": "52a29738",
   "metadata": {},
   "outputs": [
    {
     "name": "stderr",
     "output_type": "stream",
     "text": [
      "C:\\Users\\ahmed\\AppData\\Local\\Temp\\ipykernel_18456\\244904115.py:31: VisibleDeprecationWarning: Creating an ndarray from ragged nested sequences (which is a list-or-tuple of lists-or-tuples-or ndarrays with different lengths or shapes) is deprecated. If you meant to do this, you must specify 'dtype=object' when creating the ndarray.\n",
      "  labels = np.array(labels)\n"
     ]
    }
   ],
   "source": [
    "import os\n",
    "import cv2\n",
    "import numpy as np\n",
    "image_dir = 'C:\\\\Users\\\\ahmed\\\\CNN project\\\\data\\\\roads'\n",
    "label_dir = 'C:\\\\Users\\\\ahmed\\\\CNN project\\\\labeled data\\\\labeled images'\n",
    "images = []\n",
    "labels = []\n",
    "for filename in os.listdir(image_dir):\n",
    "    if filename.endswith('.jpg'):\n",
    "        # Load the image\n",
    "        image = cv2.imread(os.path.join(image_dir, filename))\n",
    "        image = cv2.cvtColor(image, cv2.COLOR_BGR2RGB)\n",
    "        image = cv2.resize(image, (224, 224)) / 255.0\n",
    "        images.append(image)\n",
    "        \n",
    "        # Load the corresponding annotation\n",
    "        label_file = os.path.join(label_dir, filename[:-4] + '.xml')\n",
    "        tree = ET.parse(label_file)\n",
    "        root = tree.getroot()\n",
    "        label = []\n",
    "        for obj in root.findall('object'):\n",
    "            xmin = int(obj.find('bndbox/xmin').text)\n",
    "            ymin = int(obj.find('bndbox/ymin').text)\n",
    "            xmax = int(obj.find('bndbox/xmax').text)\n",
    "            ymax = int(obj.find('bndbox/ymax').text)\n",
    "            label.append([xmin, ymin, xmax, ymax])\n",
    "        labels.append(label)\n",
    "\n",
    "# Convert the data to NumPy arrays\n",
    "images = np.array(images)\n",
    "labels = np.array(labels)"
   ]
  },
  {
   "cell_type": "code",
   "execution_count": null,
   "id": "c48c385b",
   "metadata": {},
   "outputs": [],
   "source": []
  },
  {
   "cell_type": "code",
   "execution_count": null,
   "id": "ef0cbce8",
   "metadata": {},
   "outputs": [],
   "source": []
  }
 ],
 "metadata": {
  "kernelspec": {
   "display_name": "Python 3 (ipykernel)",
   "language": "python",
   "name": "python3"
  },
  "language_info": {
   "codemirror_mode": {
    "name": "ipython",
    "version": 3
   },
   "file_extension": ".py",
   "mimetype": "text/x-python",
   "name": "python",
   "nbconvert_exporter": "python",
   "pygments_lexer": "ipython3",
   "version": "3.10.9"
  }
 },
 "nbformat": 4,
 "nbformat_minor": 5
}
